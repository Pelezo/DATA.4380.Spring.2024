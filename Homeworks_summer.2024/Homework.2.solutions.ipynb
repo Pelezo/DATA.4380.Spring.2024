{
 "cells": [
  {
   "cell_type": "markdown",
   "id": "8588b4b3",
   "metadata": {},
   "source": [
    "# Unix Shell\n",
    "\n",
    "There is a lot that can be done on the Unix shell command prompt. For homework, we will do some useful manipulations of CSV files.\n",
    "\n",
    "There is plenty of material online that will help you figure out how to do various tasks on the command line. Some example resources I found by googling:\n",
    "\n",
    "* Paths and Wildcards: https://www.warp.dev/terminus/linux-wildcards\n",
    "* General introduction to shell: https://github-pages.ucl.ac.uk/RCPSTrainingMaterials/HPCandHTCusingLegion/2_intro_to_shell.html\n",
    "* Manual pages: https://www.geeksforgeeks.org/linux-man-page-entries-different-types/?ref=ml_lbp\n",
    "* Chaining commands: https://www.geeksforgeeks.org/chaining-commands-in-linux/?ref=ml_lbp\n",
    "* Piping: https://www.geeksforgeeks.org/piping-in-unix-or-linux/\n",
    "* Using sed: https://www.geeksforgeeks.org/sed-command-linux-set-2/?ref=ml_lbp\n",
    "* Various Unix commands: https://www.geeksforgeeks.org/linux-commands/?ref=lbp\n",
    "* Cheat sheets:\n",
    "    * https://www.stationx.net/unix-commands-cheat-sheet/\n",
    "    * https://cheatography.com/davechild/cheat-sheets/linux-command-line/\n",
    "    * https://www.theknowledgeacademy.com/blog/unix-commands-cheat-sheet/\n",
    "    \n",
    "These aren't necessarily the best resources. Feel free to search for better ones. Also, don't forget that Unix has built-in manual pages for all of its commands. Just type `man <command>` at the command prompt. Use the space-bar to scroll through the documentation and \"q\" to exit."
   ]
  },
  {
   "cell_type": "markdown",
   "id": "42d7f0e0",
   "metadata": {},
   "source": [
    "## Homework\n",
    "\n",
    "Perform all of these tasks on the Unix command prompt. Some may require several commands. Many will require chaining commands together. Once you figure out how to perform the task, copy paste the command(s) here.  \n",
    "\n",
    "1. After unziping the Kaggle CSV files, make a new directory for the original zip files, and move the files there. In case you accidentally mess up one of the CSV files, you'll be able unzip the data again. \n",
    "\n",
    "Hint: use `mkdir` and `mv` commands with appropriate wildcards.\n",
    "\n",
    "2. The \"diabetes_prediction_dataset.csv\" file has a lot of entries. Create 3 new CSV files, each with about 1/3 of the data.\n",
    "\n",
    "Hints: \n",
    "* Use `head` to get first line.  \n",
    "* First create 3 files with just the first line by redirecting output of `head` into a file using `>`.\n",
    "* Use `wc` to count the number of entries\n",
    "* Chain/pipe `head` and `tail` to select specific lines, redirecting output to append to the 3 files you created using `>>`.\n",
    "\n",
    "3. Create 2 new CSV files from `Heart_Disease_Prediction.csv`, one containing rows with \"Presence\" label and another with \"Absence\" label. Make sure that the first line of each file contains the field names. \n",
    "\n",
    "Hints: \n",
    "* Use `head` to get first line.  \n",
    "* First create 2 files with just the first line by redirecting output of `head` into a file using `>`.\n",
    "* Use `grep` to select lines that contain \"Absence\" or \"Presence\" and append the output to the appropriate file created in the previous step.\n",
    "\n",
    "4. What fraction of cars in `car_web_scraped_dataset.csv` have had no accidents?\n",
    "\n",
    "Hints:\n",
    "* Use `grep` to select the appropriate lines.\n",
    "* Pipe the output of grep into `wc` (using `|`) to count the lines.\n",
    "\n",
    "5. Make the following replacements in `Housing.csv`, output the result into a new CSV:\n",
    "\n",
    "* yes -> 1\n",
    "* no -> 0\n",
    "* unfurnished -> 0\n",
    "* furnished -> 1\n",
    "* semi-furnished -> 2\n",
    "    \n",
    "Hints:\n",
    "* Use `sed` to do the replacement.\n",
    "* Use pipes to chain multiple `sed` commands.\n",
    "* To avoid replacing \"unfurnished\" or \"semi-furnished\" when performing the \"furnished\" replacement, try replacing \",furnished\" with \",1\".\n",
    "\n",
    "6. Create a new CSV files from `Mall_Customers`, removing \"CustomerID\" column.\n",
    "\n",
    "Hints:\n",
    "* Use `cut` command\n",
    "* Default separator for `cut` is the space character. For CSV, you have to use option `-d ','`.\n",
    "\n",
    "7. Create a new file that contains the sum of the following fields for each row:\n",
    "    * Research Quality Score\n",
    "    * Industry Score\n",
    "    * International Outlook\n",
    "    * Research Environment Score\n",
    "    \n",
    "Hints:\n",
    "* Use `cut` to select the correct columns.\n",
    "* Use `tr` to replace ',' with '+'.\n",
    "* Pipe output into `bc` to compute the sum.\n",
    "\n",
    "8. Sort the \"cancer patient data sets.csv\" file by age. Make sure the output is a readable CSV file.\n",
    "\n",
    "Hints:\n",
    "* Use sort with `-n`, `-t`, and `-k` options. "
   ]
  },
  {
   "cell_type": "code",
   "execution_count": null,
   "id": "041d15e6",
   "metadata": {},
   "outputs": [],
   "source": [
    "## Question 1:\n",
    "mkdir zipped_datasets\n",
    "mv amex-default-prediction.zip /Users/catarinavuzi/zipped_datasets\n",
    "mv /Users/catarinavuzi/Downloads/archive.zip /Users/catarinavuzi/zipped_datasets\n",
    "mv /Users/catarinavuzi/Downloads/Diabetes\\ Prediction.zip /Users/catarinavuzi/zipped_datasets\n",
    "mv springleaf-marketing-response.zip /Users/catarinavuzi/zipped_datasets\n",
    "mv santander-product-recommendation.zip /Users/catarinavuzi/zipped_datasets\n",
    "\n"
   ]
  },
  {
   "cell_type": "code",
   "execution_count": null,
   "id": "c7391869-8c74-4c91-9d0a-dba911f559ab",
   "metadata": {},
   "outputs": [],
   "source": [
    "##Question 2:\n",
    "head -n 1 train.Diab.csv > file1.csv\n",
    "head -n 1 train.Diab.csv > file2.csv\n",
    "head -n 1 train.Diab.csv > file3.csv\n",
    "\n",
    "wc -l file1.csv\n",
    "-l train.Diab.csv\n",
    "head -n $((601 / 3 )) train.Diab.csv >> file1.csv\n",
    "tail -n $((601 3 +1 )) train.Diab.csv | head-n $((601/3)) >> file2.csv\n",
    "tail -n +$((2* 601/ 3 + 1)) train.diab.csv >> file3.csv\n",
    "\n"
   ]
  },
  {
   "cell_type": "code",
   "execution_count": null,
   "id": "f8fcce6b-0a18-4726-be28-3355ac137a25",
   "metadata": {},
   "outputs": [],
   "source": [
    "##Question 3: \n",
    "head -n 1 Heart_Disease_Prediction.csv > presence_label.csv\n",
    "head -n 1 Heart_Disease_Prediction.csv > absence_label.csv\n",
    "grep \"Presence\" Heart_Disease_Prediction.csv >> presence_label.csv\n",
    "grep \"Absence\" Heart_Disease_Prediction.csv >> absence_label.csv\n"
   ]
  },
  {
   "cell_type": "code",
   "execution_count": null,
   "id": "f1223863-5329-4f79-86ff-1ac24e2bd069",
   "metadata": {},
   "outputs": [],
   "source": [
    "##Question 4:\n",
    "grep -i 'no accidents' cars_24_combined.csv | wc -l\n",
    "output 0\n"
   ]
  },
  {
   "cell_type": "code",
   "execution_count": null,
   "id": "1a2b9a26-ba2b-4c07-b16d-73ab341d22b6",
   "metadata": {},
   "outputs": [],
   "source": [
    "##Question 5:\n",
    "sed -e 's/yes/1/g' -e 's/no/0/g' -e 's/unfurnished/0/g' -e 's/furnished/1/g' -e 's/semi-furnished/2/g' housing.csv > Updated_housing.csv\n"
   ]
  },
  {
   "cell_type": "code",
   "execution_count": null,
   "id": "a3d21c10-f9be-43d6-a08e-8d702bb8110e",
   "metadata": {},
   "outputs": [],
   "source": [
    "##Question 6:\n",
    "cut -d ',' -f 2- Mall_Customers.csv > Mall_Customers_NoID.csv\n"
   ]
  },
  {
   "cell_type": "code",
   "execution_count": null,
   "id": "55f033d3-4248-40c8-8fe2-499a5aba662e",
   "metadata": {},
   "outputs": [],
   "source": [
    "##Question 7:\n",
    "cut -d ',' -f 1,7- THE_World_University_Rankings_2016-2024.csv\n",
    "cut -d ',' -f 1,7- THE_World_University_Rankings_2016-2024.csv | tr ',' '+'\n",
    "cut -d ',' -f 1,7- THE_World_University_Rankings_2016-2024.csv | tr ',' '+' | bc\n"
   ]
  },
  {
   "cell_type": "code",
   "execution_count": null,
   "id": "21f8d37e-4930-4c8c-af9e-7a20394090b2",
   "metadata": {},
   "outputs": [],
   "source": [
    "##Question 8:\n",
    "sort -n -t, -k2 \"cancer patient data sets.csv\" > sorted_cancer_data.csv\n"
   ]
  },
  {
   "cell_type": "code",
   "execution_count": null,
   "id": "7eb84489-cd4f-4217-a707-6bd39e40745d",
   "metadata": {},
   "outputs": [],
   "source": []
  },
  {
   "cell_type": "code",
   "execution_count": null,
   "id": "1a8ba620-5bd0-424a-91cf-1d4d865495a3",
   "metadata": {},
   "outputs": [],
   "source": []
  }
 ],
 "metadata": {
  "kernelspec": {
   "display_name": "Python 3 (ipykernel)",
   "language": "python",
   "name": "python3"
  },
  "language_info": {
   "codemirror_mode": {
    "name": "ipython",
    "version": 3
   },
   "file_extension": ".py",
   "mimetype": "text/x-python",
   "name": "python",
   "nbconvert_exporter": "python",
   "pygments_lexer": "ipython3",
   "version": "3.9.6"
  }
 },
 "nbformat": 4,
 "nbformat_minor": 5
}
